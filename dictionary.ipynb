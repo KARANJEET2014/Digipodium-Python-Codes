{
 "cells": [
  {
   "cell_type": "code",
   "execution_count": 1,
   "metadata": {},
   "outputs": [],
   "source": [
    "x = ['Ravi Prakash', 100, 22, 226022, 'Lucknow', 'Regional Manager', True, False]"
   ]
  },
  {
   "cell_type": "code",
   "execution_count": 2,
   "metadata": {},
   "outputs": [],
   "source": [
    "data = {'name': 'Ravi Prakash', 'Diwali': 100,\n",
    "        'age': 22, 'pincode': 226022, 'city': 'Lucknow',\n",
    "        'desig': 'Regional Manager', 'is_married': True, 'have_children': True}"
   ]
  },
  {
   "cell_type": "code",
   "execution_count": 3,
   "metadata": {},
   "outputs": [
    {
     "name": "stdout",
     "output_type": "stream",
     "text": [
      "{'name': 'Ravi Prakash', 'Diwali': 100, 'age': 22, 'pincode': 226022, 'city': 'Lucknow', 'desig': 'Regional Manager', 'is_married': True, 'have_children': True}\n"
     ]
    }
   ],
   "source": [
    "print(data)"
   ]
  },
  {
   "cell_type": "code",
   "execution_count": 4,
   "metadata": {},
   "outputs": [
    {
     "data": {
      "text/plain": [
       "'Regional Manager'"
      ]
     },
     "execution_count": 4,
     "metadata": {},
     "output_type": "execute_result"
    }
   ],
   "source": [
    "data['desig']"
   ]
  },
  {
   "cell_type": "code",
   "execution_count": 5,
   "metadata": {},
   "outputs": [
    {
     "data": {
      "text/plain": [
       "'Ravi Prakash'"
      ]
     },
     "execution_count": 5,
     "metadata": {},
     "output_type": "execute_result"
    }
   ],
   "source": [
    "data['name']"
   ]
  },
  {
   "cell_type": "code",
   "execution_count": 7,
   "metadata": {},
   "outputs": [],
   "source": [
    "data['age'] = 23 #update the key"
   ]
  },
  {
   "cell_type": "code",
   "execution_count": 8,
   "metadata": {},
   "outputs": [],
   "source": [
    "data['dept'] = 'Sales' #adding the data"
   ]
  },
  {
   "cell_type": "code",
   "execution_count": 9,
   "metadata": {},
   "outputs": [
    {
     "data": {
      "text/plain": [
       "True"
      ]
     },
     "execution_count": 9,
     "metadata": {},
     "output_type": "execute_result"
    }
   ],
   "source": [
    "data.pop('is_married') #remove the data"
   ]
  },
  {
   "cell_type": "code",
   "execution_count": 10,
   "metadata": {},
   "outputs": [
    {
     "name": "stdout",
     "output_type": "stream",
     "text": [
      "{'name': 'Ravi Prakash', 'Diwali': 100, 'age': 23, 'pincode': 226022, 'city': 'Lucknow', 'desig': 'Regional Manager', 'have_children': True, 'dept': 'Sales'}\n"
     ]
    }
   ],
   "source": [
    "print(data)"
   ]
  },
  {
   "cell_type": "code",
   "execution_count": 11,
   "metadata": {},
   "outputs": [
    {
     "name": "stdout",
     "output_type": "stream",
     "text": [
      "name\n",
      "Diwali\n",
      "age\n",
      "pincode\n",
      "city\n",
      "desig\n",
      "have_children\n",
      "dept\n"
     ]
    }
   ],
   "source": [
    "#Basic Loop Example\n",
    "for i in data:\n",
    "    print(i)\n"
   ]
  },
  {
   "cell_type": "code",
   "execution_count": 12,
   "metadata": {},
   "outputs": [
    {
     "name": "stdout",
     "output_type": "stream",
     "text": [
      "name Ravi Prakash\n",
      "Diwali 100\n",
      "age 23\n",
      "pincode 226022\n",
      "city Lucknow\n",
      "desig Regional Manager\n",
      "have_children True\n",
      "dept Sales\n"
     ]
    }
   ],
   "source": [
    "#Actual Loop Example\n",
    "for k, v in data.items():  #.items is the way to key the values of the key\n",
    "    print(k, v)"
   ]
  },
  {
   "cell_type": "code",
   "execution_count": 14,
   "metadata": {},
   "outputs": [
    {
     "name": "stdout",
     "output_type": "stream",
     "text": [
      "name Ravi Prakash\n",
      "Diwali 100\n",
      "age 23\n",
      "pincode 226022\n",
      "city Lucknow\n",
      "desig Regional Manager\n",
      "have_children True\n",
      "dept Sales\n"
     ]
    }
   ],
   "source": [
    "#This also works to get key and the value\n",
    "for i in data:\n",
    "    print(i, data[i])"
   ]
  },
  {
   "cell_type": "code",
   "execution_count": 16,
   "metadata": {},
   "outputs": [
    {
     "name": "stdout",
     "output_type": "stream",
     "text": [
      "[1, 2, 3, 4, 5, 6, 7, 8, 9]\n",
      "[2, 4, 6, 8]\n"
     ]
    }
   ],
   "source": [
    "#Odd indexes from the List\n",
    "x = [1,2,3,4,5,6,7,8,9]\n",
    "x_odd = x[1::2]\n",
    "print(x)\n",
    "print(x_odd)"
   ]
  },
  {
   "cell_type": "code",
   "execution_count": 17,
   "metadata": {},
   "outputs": [
    {
     "name": "stdout",
     "output_type": "stream",
     "text": [
      "[1, 2, 3, 4, 5, 6, 7, 8, 9]\n",
      "[1, 3, 5, 7, 9]\n"
     ]
    }
   ],
   "source": [
    "#Even indexes from the List\n",
    "x = [1,2,3,4,5,6,7,8,9]\n",
    "x_even = x[0::2]  # x_even = x[::2]\n",
    "print(x)\n",
    "print(x_even)"
   ]
  },
  {
   "cell_type": "code",
   "execution_count": 18,
   "metadata": {},
   "outputs": [
    {
     "name": "stdout",
     "output_type": "stream",
     "text": [
      "[1, 3, 5, 7, 9]\n"
     ]
    }
   ],
   "source": [
    "#Same program using the Loop in the List\n",
    "x = [1,2,3,4,5,6,7,8,9]\n",
    "x_even = []\n",
    "for i, v in enumerate(x):\n",
    "    if i%2==0:\n",
    "        x_even.append(v)\n",
    "print(x_even)"
   ]
  },
  {
   "cell_type": "code",
   "execution_count": 19,
   "metadata": {},
   "outputs": [
    {
     "name": "stdout",
     "output_type": "stream",
     "text": [
      "{'Maggi': '90', 'Butter': '200', 'Sugar': '230', 'Salt': '50', 'Biscuit': '39'}\n"
     ]
    }
   ],
   "source": [
    "#Take 5 values from the user of the product and the cost of it\n",
    "user_data = {}\n",
    "for i in range(5):\n",
    "    key = input(\"Enter name? \")\n",
    "    val = input(\"Enter values=> \")\n",
    "    user_data[key] = val\n",
    "\n",
    "print(user_data)"
   ]
  },
  {
   "cell_type": "code",
   "execution_count": 21,
   "metadata": {},
   "outputs": [],
   "source": [
    "#Store student marks in a Dictionary\n",
    "report = { 'Raja':\n",
    "            {'eng' : [50, 80],\n",
    "            'hindi' : [40, 83],\n",
    "            'maths' : [39,59],},\n",
    "            'Rani':\n",
    "            {'eng': [29, 49],\n",
    "            'hindi': [40, 70],\n",
    "            'maths': [2,1],\n",
    "             }, #comma is put at the last so that this can be updated.\n",
    "             }"
   ]
  },
  {
   "cell_type": "code",
   "execution_count": 22,
   "metadata": {},
   "outputs": [
    {
     "name": "stdout",
     "output_type": "stream",
     "text": [
      "{'Raja': {'eng': [50, 80], 'hindi': [40, 83], 'maths': [39, 59], 'Comp': [50, 90]}, 'Rani': {'eng': [29, 49], 'hindi': [40, 70], 'maths': [2, 1]}}\n"
     ]
    }
   ],
   "source": [
    "report['Raja']['Comp'] = [50, 90]\n",
    "print(report)"
   ]
  },
  {
   "cell_type": "code",
   "execution_count": 23,
   "metadata": {},
   "outputs": [
    {
     "data": {
      "text/plain": [
       "{'Raja': {'eng': [50, 80], 'hindi': [40, 83], 'maths': [39, 59], 'Comp': 90},\n",
       " 'Rani': {'eng': [29, 49], 'hindi': [40, 70], 'maths': [2, 1]}}"
      ]
     },
     "execution_count": 23,
     "metadata": {},
     "output_type": "execute_result"
    }
   ],
   "source": [
    "report ['Raja']['Comp'] =90\n",
    "report"
   ]
  },
  {
   "cell_type": "code",
   "execution_count": 24,
   "metadata": {},
   "outputs": [
    {
     "data": {
      "text/plain": [
       "[40, 70]"
      ]
     },
     "execution_count": 24,
     "metadata": {},
     "output_type": "execute_result"
    }
   ],
   "source": [
    "report['Rani']['hindi']"
   ]
  },
  {
   "cell_type": "code",
   "execution_count": 25,
   "metadata": {},
   "outputs": [
    {
     "data": {
      "text/plain": [
       "70"
      ]
     },
     "execution_count": 25,
     "metadata": {},
     "output_type": "execute_result"
    }
   ],
   "source": [
    "report['Rani']['hindi'][1]"
   ]
  },
  {
   "cell_type": "code",
   "execution_count": 29,
   "metadata": {},
   "outputs": [
    {
     "data": {
      "text/plain": [
       "70"
      ]
     },
     "execution_count": 29,
     "metadata": {},
     "output_type": "execute_result"
    }
   ],
   "source": [
    "report['Rani']['hindi'][int(False + 1)] #as value of False is 0 and of True is 1"
   ]
  },
  {
   "cell_type": "code",
   "execution_count": 28,
   "metadata": {},
   "outputs": [
    {
     "name": "stdout",
     "output_type": "stream",
     "text": [
      "Raja\n",
      "=>eng = [50, 80]\n",
      "=>hindi = [40, 83]\n",
      "=>maths = [39, 59]\n",
      "=>Comp = 90\n",
      "Rani\n",
      "=>eng = [29, 49]\n",
      "=>hindi = [40, 70]\n",
      "=>maths = [2, 1]\n"
     ]
    }
   ],
   "source": [
    "for name, marks in report.items():\n",
    "    print(name)\n",
    "    for subject, val in marks.items():\n",
    "        print(f'=>{subject} = {val}')"
   ]
  },
  {
   "cell_type": "code",
   "execution_count": null,
   "metadata": {},
   "outputs": [],
   "source": [
    "#WAP to create a contact dictionary, which will have some names and phone numbers. The user can search for a name through the input. If the name is in the dictionary, then display the phone number else, ask the user to add the number of the person by him/her self.\n",
    "# contact = {'police' : 112, 'hospital' : 109, } "
   ]
  }
 ],
 "metadata": {
  "kernelspec": {
   "display_name": "Python 3.10.5 64-bit",
   "language": "python",
   "name": "python3"
  },
  "language_info": {
   "codemirror_mode": {
    "name": "ipython",
    "version": 3
   },
   "file_extension": ".py",
   "mimetype": "text/x-python",
   "name": "python",
   "nbconvert_exporter": "python",
   "pygments_lexer": "ipython3",
   "version": "3.10.5"
  },
  "orig_nbformat": 4,
  "vscode": {
   "interpreter": {
    "hash": "51500e820c1c75b8373bcf85e0980ed0059988beaadd58c29bb8cf6de5b0e811"
   }
  }
 },
 "nbformat": 4,
 "nbformat_minor": 2
}
