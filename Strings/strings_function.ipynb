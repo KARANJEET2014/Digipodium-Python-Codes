{
 "cells": [
  {
   "cell_type": "code",
   "execution_count": 7,
   "metadata": {},
   "outputs": [],
   "source": [
    "msg = '''The updated Google Search experience was one of several changes\n",
    "the company announced today at its Search On event. Google's own research\n",
    "showed that almost 40% of young people would often just search TikTok or\n",
    "Instagram to find a place to for lunch, instead of Google or Google Maps.'''"
   ]
  },
  {
   "cell_type": "code",
   "execution_count": 8,
   "metadata": {},
   "outputs": [
    {
     "name": "stdout",
     "output_type": "stream",
     "text": [
      "total characters:284\n"
     ]
    }
   ],
   "source": [
    "chars = len(msg)\n",
    "print(f'total characters:{chars}')"
   ]
  },
  {
   "cell_type": "markdown",
   "metadata": {},
   "source": [
    "- Strings have following method types-\n",
    "Formatting Methods\n",
    "Utility Methods\n",
    "Validation methods\n"
   ]
  },
  {
   "cell_type": "code",
   "execution_count": 9,
   "metadata": {},
   "outputs": [
    {
     "data": {
      "text/plain": [
       "26"
      ]
     },
     "execution_count": 9,
     "metadata": {},
     "output_type": "execute_result"
    }
   ],
   "source": [
    "msg.find('experience')"
   ]
  },
  {
   "cell_type": "code",
   "execution_count": 10,
   "metadata": {},
   "outputs": [
    {
     "data": {
      "text/plain": [
       "-1"
      ]
     },
     "execution_count": 10,
     "metadata": {},
     "output_type": "execute_result"
    }
   ],
   "source": [
    "msg.find('google')"
   ]
  },
  {
   "cell_type": "code",
   "execution_count": 11,
   "metadata": {},
   "outputs": [
    {
     "data": {
      "text/plain": [
       "272"
      ]
     },
     "execution_count": 11,
     "metadata": {},
     "output_type": "execute_result"
    }
   ],
   "source": [
    "msg.rfind('Google')"
   ]
  },
  {
   "cell_type": "code",
   "execution_count": 12,
   "metadata": {},
   "outputs": [
    {
     "data": {
      "text/plain": [
       "12"
      ]
     },
     "execution_count": 12,
     "metadata": {},
     "output_type": "execute_result"
    }
   ],
   "source": [
    "msg.find('Google')"
   ]
  },
  {
   "cell_type": "code",
   "execution_count": 13,
   "metadata": {},
   "outputs": [
    {
     "data": {
      "text/plain": [
       "\"experience was one of several changes\\nthe company announced today at its Search On event. Google's own research\\nshowed that almost 40% of young people would often just search TikTok or\\nInstagram to find a place to for lunch, instead of Google or Google Maps.\""
      ]
     },
     "execution_count": 13,
     "metadata": {},
     "output_type": "execute_result"
    }
   ],
   "source": [
    "idx = msg.find('experience')\n",
    "msg[idx:]\n"
   ]
  },
  {
   "cell_type": "code",
   "execution_count": 14,
   "metadata": {},
   "outputs": [
    {
     "data": {
      "text/plain": [
       "'40% of young people would often just search TikTok or\\nInstagram to find a place to for lunch, instead of Google or Google Maps.'"
      ]
     },
     "execution_count": 14,
     "metadata": {},
     "output_type": "execute_result"
    }
   ],
   "source": [
    "msg[msg.find('40%'):]"
   ]
  },
  {
   "cell_type": "code",
   "execution_count": 15,
   "metadata": {},
   "outputs": [
    {
     "name": "stdout",
     "output_type": "stream",
     "text": [
      "The updated Microsoft Search experience was one of several changes\n",
      "the company announced today at its Search On event. Microsoft's own research\n",
      "showed that almost 40% of young people would often just search TikTok or\n",
      "Instagram to find a place to for lunch, instead of Microsoft or Microsoft Maps.\n"
     ]
    }
   ],
   "source": [
    "result = msg.replace('Google','Microsoft')\n",
    "print(result)"
   ]
  },
  {
   "cell_type": "code",
   "execution_count": 16,
   "metadata": {},
   "outputs": [
    {
     "name": "stdout",
     "output_type": "stream",
     "text": [
      "The updated Meta Search experience is one of several changes\n",
      "the company announced today at its Search On event. Meta's own rerescue\n",
      "showed that almost 40% of young people would often just rescue TikTok or\n",
      "Instagram to find a place to for lunch, instead of Meta or Meta Maps.\n"
     ]
    }
   ],
   "source": [
    "res = msg.replace('was','is').replace('search','rescue').replace('Google','Meta')\n",
    "print(res)"
   ]
  },
  {
   "cell_type": "code",
   "execution_count": 17,
   "metadata": {},
   "outputs": [
    {
     "data": {
      "text/plain": [
       "20"
      ]
     },
     "execution_count": 17,
     "metadata": {},
     "output_type": "execute_result"
    }
   ],
   "source": [
    "msg.count('a')"
   ]
  },
  {
   "cell_type": "code",
   "execution_count": 18,
   "metadata": {},
   "outputs": [
    {
     "data": {
      "text/plain": [
       "4"
      ]
     },
     "execution_count": 18,
     "metadata": {},
     "output_type": "execute_result"
    }
   ],
   "source": [
    "msg.count('Google')"
   ]
  },
  {
   "cell_type": "code",
   "execution_count": 19,
   "metadata": {},
   "outputs": [
    {
     "name": "stdout",
     "output_type": "stream",
     "text": [
      "['The', 'updated', 'Google', 'Search', 'experience', 'was', 'one', 'of', 'several', 'changes', 'the', 'company', 'announced', 'today', 'at', 'its', 'Search', 'On', 'event.', \"Google's\", 'own', 'research', 'showed', 'that', 'almost', '40%', 'of', 'young', 'people', 'would', 'often', 'just', 'search', 'TikTok', 'or', 'Instagram', 'to', 'find', 'a', 'place', 'to', 'for', 'lunch,', 'instead', 'of', 'Google', 'or', 'Google', 'Maps.']\n"
     ]
    }
   ],
   "source": [
    "words = msg.split()\n",
    "print(words)"
   ]
  },
  {
   "cell_type": "code",
   "execution_count": 20,
   "metadata": {},
   "outputs": [
    {
     "name": "stdout",
     "output_type": "stream",
     "text": [
      "['The updated Google Search experience was one of several changes', \"the company announced today at its Search On event. Google's own research\", 'showed that almost 40% of young people would often just search TikTok or', 'Instagram to find a place to for lunch, instead of Google or Google Maps.']\n"
     ]
    }
   ],
   "source": [
    "lines = msg.splitlines()\n",
    "print(lines)"
   ]
  },
  {
   "cell_type": "code",
   "execution_count": 21,
   "metadata": {},
   "outputs": [
    {
     "data": {
      "text/plain": [
       "[\"The updated Google Search experience was one of several changes\\nthe company announced today at its Search On event. Google's own research\\nshowed that almost 40% of young people would often just search TikTok or\\nInstagram to find a place to for lunch\",\n",
       " ' instead of Google or Google Maps.']"
      ]
     },
     "execution_count": 21,
     "metadata": {},
     "output_type": "execute_result"
    }
   ],
   "source": [
    "msg.split(',')"
   ]
  },
  {
   "cell_type": "code",
   "execution_count": 22,
   "metadata": {},
   "outputs": [
    {
     "name": "stdout",
     "output_type": "stream",
     "text": [
      "['Amar', ' Akbar', ' Anthony', ' Vijay', ' Deenanath']\n",
      "name----> Amar\n",
      "name---->  Akbar\n",
      "name---->  Anthony\n",
      "name---->  Vijay\n",
      "name---->  Deenanath\n"
     ]
    }
   ],
   "source": [
    "name = \"Amar, Akbar, Anthony, Vijay, Deenanath\"\n",
    "name_list = name.split(',')\n",
    "print(name_list)\n",
    "\n",
    "for nm in name_list:\n",
    "    print('name---->', nm)"
   ]
  },
  {
   "cell_type": "code",
   "execution_count": 23,
   "metadata": {},
   "outputs": [
    {
     "name": "stdout",
     "output_type": "stream",
     "text": [
      "['yo', 'po', 'no', 'do', 'lo']\n"
     ]
    }
   ],
   "source": [
    "#split\n",
    "items = input('Enter 5 items separated by space').split()\n",
    "print(items)"
   ]
  },
  {
   "cell_type": "code",
   "execution_count": 24,
   "metadata": {},
   "outputs": [
    {
     "name": "stdout",
     "output_type": "stream",
     "text": [
      "Python -m textblob\n",
      "Python, -m, textblob\n",
      "Python-mtextblob\n",
      "Python___2____-m___2____textblob\n"
     ]
    }
   ],
   "source": [
    "data_list = ['Python','-m','textblob']\n",
    "result = \" \".join(data_list)\n",
    "print(result)\n",
    "result = ', '.join(data_list)\n",
    "print(result)\n",
    "result = ''.join(data_list)\n",
    "print(result)\n",
    "result = '___2____'.join(data_list)\n",
    "print(result)"
   ]
  },
  {
   "cell_type": "code",
   "execution_count": 25,
   "metadata": {},
   "outputs": [
    {
     "name": "stdout",
     "output_type": "stream",
     "text": [
      "THE UPDATED GOOGLE SEARCH EXPERIENCE WAS ONE OF SEVERAL CHANGES\n",
      "THE COMPANY ANNOUNCED TODAY AT ITS SEARCH ON EVENT. GOOGLE'S OWN RESEARCH\n",
      "SHOWED THAT ALMOST 40% OF YOUNG PEOPLE WOULD OFTEN JUST SEARCH TIKTOK OR\n",
      "INSTAGRAM TO FIND A PLACE TO FOR LUNCH, INSTEAD OF GOOGLE OR GOOGLE MAPS.\n"
     ]
    }
   ],
   "source": [
    "result = msg.upper()\n",
    "print(result)"
   ]
  },
  {
   "cell_type": "code",
   "execution_count": 26,
   "metadata": {},
   "outputs": [
    {
     "name": "stdout",
     "output_type": "stream",
     "text": [
      "The Updated Google Search Experience Was One Of Several Changes\n",
      "The Company Announced Today At Its Search On Event. Google'S Own Research\n",
      "Showed That Almost 40% Of Young People Would Often Just Search Tiktok Or\n",
      "Instagram To Find A Place To For Lunch, Instead Of Google Or Google Maps.\n"
     ]
    }
   ],
   "source": [
    "result = msg.title()\n",
    "print(result)"
   ]
  },
  {
   "cell_type": "code",
   "execution_count": 28,
   "metadata": {},
   "outputs": [
    {
     "name": "stdout",
     "output_type": "stream",
     "text": [
      "The updated google search experience was one of several changes\n",
      "the company announced today at its search on event. google's own research\n",
      "showed that almost 40% of young people would often just search tiktok or\n",
      "instagram to find a place to for lunch, instead of google or google maps.\n"
     ]
    }
   ],
   "source": [
    "result = msg.capitalize()\n",
    "print(result)"
   ]
  },
  {
   "cell_type": "code",
   "execution_count": 30,
   "metadata": {},
   "outputs": [
    {
     "name": "stdout",
     "output_type": "stream",
     "text": [
      "the updated google search experience was one of several changes\n",
      "the company announced today at its search on event. google's own research\n",
      "showed that almost 40% of young people would often just search tiktok or\n",
      "instagram to find a place to for lunch, instead of google or google maps.\n"
     ]
    }
   ],
   "source": [
    "result = msg.lower()\n",
    "print(result)"
   ]
  },
  {
   "cell_type": "code",
   "execution_count": 31,
   "metadata": {},
   "outputs": [
    {
     "name": "stdout",
     "output_type": "stream",
     "text": [
      "tHE UPDATED gOOGLE sEARCH EXPERIENCE WAS ONE OF SEVERAL CHANGES\n",
      "THE COMPANY ANNOUNCED TODAY AT ITS sEARCH oN EVENT. gOOGLE'S OWN RESEARCH\n",
      "SHOWED THAT ALMOST 40% OF YOUNG PEOPLE WOULD OFTEN JUST SEARCH tIKtOK OR\n",
      "iNSTAGRAM TO FIND A PLACE TO FOR LUNCH, INSTEAD OF gOOGLE OR gOOGLE mAPS.\n"
     ]
    }
   ],
   "source": [
    "result = msg.swapcase()\n",
    "print(result)"
   ]
  },
  {
   "cell_type": "code",
   "execution_count": 33,
   "metadata": {},
   "outputs": [
    {
     "name": "stdout",
     "output_type": "stream",
     "text": [
      "tHE uPDATED Microsoft sEARCH eXPERIENCE wAS oNE oF sEVERAL cHANGES\n",
      "tHE cOMPANY aNNOUNCED tODAY aT iTS sEARCH oN eVENT. Microsoft's oWN rESEARCH\n",
      "sHOWED tHAT aLMOST 40% oF yOUNG pEOPLE wOULD oFTEN jUST sEARCH tIKTOK oR\n",
      "iNSTAGRAM tO fIND a pLACE tO fOR lUNCH, iNSTEAD oF Microsoft oR Microsoft mAPS.\n"
     ]
    }
   ],
   "source": [
    "result = msg.title().swapcase().replace('gOOGLE', 'Microsoft')\n",
    "print(result)"
   ]
  },
  {
   "cell_type": "code",
   "execution_count": null,
   "metadata": {},
   "outputs": [],
   "source": []
  }
 ],
 "metadata": {
  "kernelspec": {
   "display_name": "Python 3.10.5 64-bit",
   "language": "python",
   "name": "python3"
  },
  "language_info": {
   "codemirror_mode": {
    "name": "ipython",
    "version": 3
   },
   "file_extension": ".py",
   "mimetype": "text/x-python",
   "name": "python",
   "nbconvert_exporter": "python",
   "pygments_lexer": "ipython3",
   "version": "3.10.5"
  },
  "orig_nbformat": 4,
  "vscode": {
   "interpreter": {
    "hash": "51500e820c1c75b8373bcf85e0980ed0059988beaadd58c29bb8cf6de5b0e811"
   }
  }
 },
 "nbformat": 4,
 "nbformat_minor": 2
}
