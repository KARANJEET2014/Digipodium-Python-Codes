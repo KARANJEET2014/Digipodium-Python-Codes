{
 "cells": [
  {
   "cell_type": "code",
   "execution_count": 1,
   "metadata": {},
   "outputs": [
    {
     "name": "stdout",
     "output_type": "stream",
     "text": [
      "String example\n"
     ]
    }
   ],
   "source": [
    "#1\n",
    "s = 'String example'\n",
    "print(s)"
   ]
  },
  {
   "cell_type": "code",
   "execution_count": 3,
   "metadata": {},
   "outputs": [
    {
     "name": "stdout",
     "output_type": "stream",
     "text": [
      "14\n"
     ]
    }
   ],
   "source": [
    "#2\n",
    "s=input('enter a string')\n",
    "print(len(s))"
   ]
  },
  {
   "cell_type": "code",
   "execution_count": 4,
   "metadata": {},
   "outputs": [
    {
     "name": "stdout",
     "output_type": "stream",
     "text": [
      "great\n",
      "great\n"
     ]
    }
   ],
   "source": [
    "#3\n",
    "sentence = 'Python is great'\n",
    "last_word = sentence[-5:]\n",
    "print(last_word)\n",
    "last_word_2 = sentence.split()[-1]\n",
    "print(last_word_2)"
   ]
  },
  {
   "cell_type": "code",
   "execution_count": 5,
   "metadata": {},
   "outputs": [
    {
     "name": "stdout",
     "output_type": "stream",
     "text": [
      "Python\n",
      "is\n",
      "everywhere\n"
     ]
    }
   ],
   "source": [
    "#4\n",
    "s = 'Python is everywhere'\n",
    "for word in s.split():\n",
    "    print(word)"
   ]
  },
  {
   "cell_type": "code",
   "execution_count": 8,
   "metadata": {},
   "outputs": [
    {
     "name": "stdout",
     "output_type": "stream",
     "text": [
      "!dlroW olleH a si sihT\n"
     ]
    }
   ],
   "source": [
    "#5\n",
    "s = 'This is a Hello World!'\n",
    "r = s[::-1] #reverse the string\n",
    "print(r)"
   ]
  },
  {
   "cell_type": "code",
   "execution_count": 9,
   "metadata": {},
   "outputs": [
    {
     "data": {
      "text/plain": [
       "'World!HelloaisThis'"
      ]
     },
     "execution_count": 9,
     "metadata": {},
     "output_type": "execute_result"
    }
   ],
   "source": [
    "''.join(s.split()[::-1]) #reverse words in the string"
   ]
  },
  {
   "cell_type": "code",
   "execution_count": 10,
   "metadata": {},
   "outputs": [
    {
     "data": {
      "text/plain": [
       "'World!   Hello   a   is   This'"
      ]
     },
     "execution_count": 10,
     "metadata": {},
     "output_type": "execute_result"
    }
   ],
   "source": [
    "'   '.join(s.split()[::-1]) #reverse words in the string"
   ]
  },
  {
   "cell_type": "code",
   "execution_count": 11,
   "metadata": {},
   "outputs": [
    {
     "data": {
      "text/plain": [
       "'HOW ARE YOU?'"
      ]
     },
     "execution_count": 11,
     "metadata": {},
     "output_type": "execute_result"
    }
   ],
   "source": [
    "#6\n",
    "'How are you?'.upper()"
   ]
  },
  {
   "cell_type": "code",
   "execution_count": 12,
   "metadata": {},
   "outputs": [
    {
     "name": "stdout",
     "output_type": "stream",
     "text": [
      "Once uploaded to Github, you can access the notebook using the following\n",
      "blah blah blah blah\n",
      "the end\n"
     ]
    }
   ],
   "source": [
    "data = '''Once uploaded to Github, you can access the notebook using the following\n",
    "blah blah blah blah\n",
    "the end'''\n",
    "print(data) "
   ]
  },
  {
   "cell_type": "code",
   "execution_count": 15,
   "metadata": {},
   "outputs": [
    {
     "name": "stdout",
     "output_type": "stream",
     "text": [
      "to move to newline '\\n' is used.\n"
     ]
    }
   ],
   "source": [
    "s =r\"to move to newline '\\n' is used.\" # r is used for raw string\n",
    "print(s)"
   ]
  },
  {
   "cell_type": "code",
   "execution_count": 16,
   "metadata": {},
   "outputs": [
    {
     "data": {
      "text/plain": [
       "'####################'"
      ]
     },
     "execution_count": 16,
     "metadata": {},
     "output_type": "execute_result"
    }
   ],
   "source": [
    "'#'*20"
   ]
  },
  {
   "cell_type": "code",
   "execution_count": 17,
   "metadata": {},
   "outputs": [
    {
     "name": "stdout",
     "output_type": "stream",
     "text": [
      "Once\n",
      "upon\n",
      "a\n",
      "time\n",
      "there\n",
      "was\n",
      "a\n",
      "monkey\n"
     ]
    }
   ],
   "source": [
    "#15\n",
    "s = input('Enter something--->')\n",
    "for word in s.split():\n",
    "    print(word)"
   ]
  },
  {
   "cell_type": "code",
   "execution_count": 18,
   "metadata": {},
   "outputs": [
    {
     "name": "stdout",
     "output_type": "stream",
     "text": [
      "this is not a good string\n"
     ]
    }
   ],
   "source": [
    "#19\n",
    "text = '        this is not a good string                '\n",
    "print(text.strip()) #strip removes leading and trailing spaces"
   ]
  },
  {
   "cell_type": "code",
   "execution_count": 20,
   "metadata": {},
   "outputs": [
    {
     "name": "stdout",
     "output_type": "stream",
     "text": [
      "You entered something else\n"
     ]
    }
   ],
   "source": [
    "#18\n",
    "data = input('Kuch bhi likho---->')\n",
    "if data.isnumeric():\n",
    "    print('You entered a number')\n",
    "else:\n",
    "    print('You entered something else')"
   ]
  },
  {
   "cell_type": "code",
   "execution_count": 26,
   "metadata": {},
   "outputs": [
    {
     "name": "stdout",
     "output_type": "stream",
     "text": [
      "Hakuna Matata\n",
      "found\n",
      "found\n"
     ]
    }
   ],
   "source": [
    "#20\n",
    "data = input('Kuch bhi likho----> ')\n",
    "print(data)\n",
    "for c in data:\n",
    "    if c.isupper():\n",
    "        print('found')"
   ]
  },
  {
   "cell_type": "code",
   "execution_count": 27,
   "metadata": {},
   "outputs": [
    {
     "data": {
      "text/plain": [
       "['Joe', 'David', 'Mark', 'Tom', 'Chris', 'Robert']"
      ]
     },
     "execution_count": 27,
     "metadata": {},
     "output_type": "execute_result"
    }
   ],
   "source": [
    "#21\n",
    "names= 'Joe, David, Mark, Tom, Chris, Robert'\n",
    "names.split(', ')"
   ]
  },
  {
   "cell_type": "code",
   "execution_count": 28,
   "metadata": {},
   "outputs": [
    {
     "name": "stdout",
     "output_type": "stream",
     "text": [
      "Thises ises somees textes "
     ]
    }
   ],
   "source": [
    "text = 'This is some text'\n",
    "for word in text.split():\n",
    "    print(word + 'es', end=' ')\n"
   ]
  },
  {
   "cell_type": "code",
   "execution_count": 29,
   "metadata": {},
   "outputs": [
    {
     "name": "stdout",
     "output_type": "stream",
     "text": [
      "fyi found\n"
     ]
    }
   ],
   "source": [
    "s = input('enter some data ----> ')\n",
    "if 'fyi' in s.lower():\n",
    "    print('fyi found')"
   ]
  },
  {
   "cell_type": "code",
   "execution_count": 30,
   "metadata": {},
   "outputs": [
    {
     "name": "stdout",
     "output_type": "stream",
     "text": [
      "p34yt68hon404\n"
     ]
    }
   ],
   "source": [
    "text = '%p34@y!*-*t68h#&on404'\n",
    "spe = '!@#$%^&*()_-+=?/<>'\n",
    "for char in spe:\n",
    "    text = text.replace(char, '')\n",
    "print(text)"
   ]
  },
  {
   "cell_type": "code",
   "execution_count": 31,
   "metadata": {},
   "outputs": [
    {
     "name": "stdout",
     "output_type": "stream",
     "text": [
      "p34yt68hon404\n"
     ]
    }
   ],
   "source": [
    "from string import punctuation\n",
    "for char in spe:\n",
    "    text = text.replace(char, '')\n",
    "print(text)"
   ]
  },
  {
   "cell_type": "code",
   "execution_count": 36,
   "metadata": {},
   "outputs": [
    {
     "name": "stdout",
     "output_type": "stream",
     "text": [
      "Average word size----> 4\n"
     ]
    }
   ],
   "source": [
    "paragraph = 'this is a paragraph which is written just for providing the content to let the program of python work'\n",
    "words = paragraph.split()             #split the program into words\n",
    "total_words = len(words)              #total number of words in the paragraph\n",
    "word_length_total = 0                 #word length total\n",
    "for w in words:                       #iterate over each word\n",
    "    word_length_total += len(w)        #add the length of each word to the total\n",
    "print('Average word size---->', round(word_length_total/total_words)) #print the average word size"
   ]
  },
  {
   "cell_type": "code",
   "execution_count": 37,
   "metadata": {},
   "outputs": [
    {
     "data": {
      "text/plain": [
       "(233, 234)"
      ]
     },
     "execution_count": 37,
     "metadata": {},
     "output_type": "execute_result"
    }
   ],
   "source": [
    "from math import floor, ceil\n",
    "from statistics import stdev\n",
    "\n",
    "floor(233.81), ceil(233.81)"
   ]
  },
  {
   "cell_type": "code",
   "execution_count": 38,
   "metadata": {},
   "outputs": [
    {
     "name": "stdout",
     "output_type": "stream",
     "text": [
      "####################\n",
      "####################\n",
      "              #####\n",
      "            #####\n",
      "          #####\n",
      "        #####\n",
      "      #####\n",
      "    #####\n",
      "  #####\n",
      "####################\n",
      "####################\n"
     ]
    }
   ],
   "source": [
    "sp = 13\n",
    "for i in range (2):\n",
    "    print('#'*20)\n",
    "for i in range(7):\n",
    "    print(' '*(sp-i*2), '#'*5)\n",
    "for i in range (2):\n",
    "    print('#'*20)"
   ]
  },
  {
   "cell_type": "code",
   "execution_count": null,
   "metadata": {},
   "outputs": [],
   "source": []
  }
 ],
 "metadata": {
  "kernelspec": {
   "display_name": "Python 3.10.5 64-bit",
   "language": "python",
   "name": "python3"
  },
  "language_info": {
   "codemirror_mode": {
    "name": "ipython",
    "version": 3
   },
   "file_extension": ".py",
   "mimetype": "text/x-python",
   "name": "python",
   "nbconvert_exporter": "python",
   "pygments_lexer": "ipython3",
   "version": "3.10.5"
  },
  "orig_nbformat": 4,
  "vscode": {
   "interpreter": {
    "hash": "51500e820c1c75b8373bcf85e0980ed0059988beaadd58c29bb8cf6de5b0e811"
   }
  }
 },
 "nbformat": 4,
 "nbformat_minor": 2
}
