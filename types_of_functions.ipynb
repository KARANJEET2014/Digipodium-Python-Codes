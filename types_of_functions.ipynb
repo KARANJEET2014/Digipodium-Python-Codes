{
 "cells": [
  {
   "cell_type": "markdown",
   "metadata": {},
   "source": [
    "LAMBA EXPRESSION- ANONYMOUS FUNCTIONS\n"
   ]
  },
  {
   "cell_type": "code",
   "execution_count": 4,
   "metadata": {},
   "outputs": [],
   "source": [
    "def eq1(x):\n",
    "    return x**2 + 2*x + 1\n"
   ]
  },
  {
   "cell_type": "code",
   "execution_count": 5,
   "metadata": {},
   "outputs": [
    {
     "data": {
      "text/plain": [
       "16"
      ]
     },
     "execution_count": 5,
     "metadata": {},
     "output_type": "execute_result"
    }
   ],
   "source": [
    "eq1(3)"
   ]
  },
  {
   "cell_type": "markdown",
   "metadata": {},
   "source": [
    "var = lambda argument: expression"
   ]
  },
  {
   "cell_type": "code",
   "execution_count": null,
   "metadata": {},
   "outputs": [],
   "source": []
  },
  {
   "cell_type": "code",
   "execution_count": null,
   "metadata": {},
   "outputs": [],
   "source": [
    "g = lambda x,y: x**2 +2*x +y"
   ]
  },
  {
   "cell_type": "code",
   "execution_count": 6,
   "metadata": {},
   "outputs": [
    {
     "ename": "NameError",
     "evalue": "name 'g' is not defined",
     "output_type": "error",
     "traceback": [
      "\u001b[1;31m---------------------------------------------------------------------------\u001b[0m",
      "\u001b[1;31mNameError\u001b[0m                                 Traceback (most recent call last)",
      "\u001b[1;32mc:\\Users\\ksmakker\\Documents\\Digipodium Python Codes\\types_of_functions.ipynb Cell 6\u001b[0m in \u001b[0;36m<cell line: 1>\u001b[1;34m()\u001b[0m\n\u001b[1;32m----> <a href='vscode-notebook-cell:/c%3A/Users/ksmakker/Documents/Digipodium%20Python%20Codes/types_of_functions.ipynb#X11sZmlsZQ%3D%3D?line=0'>1</a>\u001b[0m \u001b[39mprint\u001b[39m(g(\u001b[39m4\u001b[39m,\u001b[39m5\u001b[39m))\n\u001b[0;32m      <a href='vscode-notebook-cell:/c%3A/Users/ksmakker/Documents/Digipodium%20Python%20Codes/types_of_functions.ipynb#X11sZmlsZQ%3D%3D?line=1'>2</a>\u001b[0m \u001b[39mprint\u001b[39m(g(\u001b[39m14\u001b[39m,\u001b[39m15\u001b[39m))\n",
      "\u001b[1;31mNameError\u001b[0m: name 'g' is not defined"
     ]
    }
   ],
   "source": [
    "print(g(4,5))\n",
    "print(g(14,15))"
   ]
  },
  {
   "cell_type": "code",
   "execution_count": 10,
   "metadata": {},
   "outputs": [
    {
     "name": "stdout",
     "output_type": "stream",
     "text": [
      "[1156, 4, 25, 2025, 36, 8464, 2025, 49, 4, 1296, 49]\n",
      "{1156, 4, 36, 2025, 8464, 49, 1296, 25}\n",
      "(1156, 4, 25, 2025, 36, 8464, 2025, 49, 4, 1296, 49)\n"
     ]
    }
   ],
   "source": [
    "data = [34,2,5,45,6,92,45,7,2,36,7]\n",
    "print (list(map(lambda x: x**2, data)))\n",
    "print (set(map(lambda x: x**2, data)))\n",
    "print (tuple(map(lambda x: x**2, data)))"
   ]
  },
  {
   "cell_type": "code",
   "execution_count": 11,
   "metadata": {},
   "outputs": [
    {
     "data": {
      "text/plain": [
       "['RAJ', 'RAHUL', 'RAVI', 'RAMESH', 'RAJESH']"
      ]
     },
     "execution_count": 11,
     "metadata": {},
     "output_type": "execute_result"
    }
   ],
   "source": [
    "names = ['Raj', 'Rahul', 'Ravi', 'Ramesh', 'Rajesh']\n",
    "list(map(lambda n: n.upper(), names))"
   ]
  },
  {
   "cell_type": "code",
   "execution_count": 16,
   "metadata": {},
   "outputs": [
    {
     "data": {
      "text/plain": [
       "[6, 14, 24, 36, 50]"
      ]
     },
     "execution_count": 16,
     "metadata": {},
     "output_type": "execute_result"
    }
   ],
   "source": [
    "x = [1,2,3,4,5]\n",
    "y = [6,7,8,9,10]\n",
    "\n",
    "z = list(map(lambda i, j: i * j, x, y))\n",
    "z"
   ]
  },
  {
   "cell_type": "code",
   "execution_count": 19,
   "metadata": {},
   "outputs": [
    {
     "name": "stdout",
     "output_type": "stream",
     "text": [
      "[56, 76, 98, 0, 4, 2, 6]\n"
     ]
    }
   ],
   "source": [
    "x = [45, 23, 56, 76, 98, 0, 23, 5, 4, 2, 5, 6]\n",
    "even_x = list(filter(lambda i: i % 2 ==0, x))\n",
    "print(even_x)"
   ]
  },
  {
   "cell_type": "code",
   "execution_count": 20,
   "metadata": {},
   "outputs": [
    {
     "name": "stdout",
     "output_type": "stream",
     "text": [
      "[4, 5, 5, 6, 7, 6, 9, 8, 5, 4, 5, 6]\n"
     ]
    }
   ],
   "source": [
    "x = [4,5,2,3,5,6,7,6,9,8,0,2,3,5,4,2,5,6]\n",
    "above_3 = list(filter(lambda i: i>3, x))\n",
    "print(above_3)"
   ]
  },
  {
   "cell_type": "code",
   "execution_count": 21,
   "metadata": {},
   "outputs": [],
   "source": [
    "#single input with multiple values used in the competitive exams\n",
    "data = list(map(int, input().split()))\n"
   ]
  },
  {
   "cell_type": "code",
   "execution_count": null,
   "metadata": {},
   "outputs": [],
   "source": [
    "input(). split()"
   ]
  },
  {
   "cell_type": "code",
   "execution_count": null,
   "metadata": {},
   "outputs": [],
   "source": []
  }
 ],
 "metadata": {
  "kernelspec": {
   "display_name": "Python 3.9.12 ('base')",
   "language": "python",
   "name": "python3"
  },
  "language_info": {
   "codemirror_mode": {
    "name": "ipython",
    "version": 3
   },
   "file_extension": ".py",
   "mimetype": "text/x-python",
   "name": "python",
   "nbconvert_exporter": "python",
   "pygments_lexer": "ipython3",
   "version": "3.9.12"
  },
  "orig_nbformat": 4,
  "vscode": {
   "interpreter": {
    "hash": "f82a1bbc2538168c68d0dc100d29562dde869ce01f6de5474071baec0d9b6c3c"
   }
  }
 },
 "nbformat": 4,
 "nbformat_minor": 2
}
